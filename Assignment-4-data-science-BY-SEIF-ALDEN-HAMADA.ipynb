{
 "cells": [
  {
   "cell_type": "markdown",
   "metadata": {},
   "source": [
    "# Calculator for matrix 1 row or victor"
   ]
  },
  {
   "cell_type": "code",
   "execution_count": 1,
   "metadata": {},
   "outputs": [
    {
     "name": "stdout",
     "output_type": "stream",
     "text": [
      "Welcome to our super calcuator please chose ur mathmatical operation : \n",
      "1/ Addition\n",
      "2/ Subtraction\n",
      "3/ Multiplication\n",
      "4/ Division\n",
      "[20 40 60]\n"
     ]
    }
   ],
   "source": [
    "import numpy as np\n",
    "\n",
    "\n",
    "def calcuator():\n",
    "    while True:\n",
    "        print(\"Welcome to our super calcuator please chose ur mathmatical operation : \")\n",
    "   \n",
    "        print(\"1/ Addition\")\n",
    "    \n",
    "        print(\"2/ Subtraction\")\n",
    "      \n",
    "        print(\"3/ Multiplication\")\n",
    "    \n",
    "        print(\"4/ Division\")\n",
    "\n",
    "        operation = int(input(\"Enter the number of the operation :\"))\n",
    "\n",
    "        if(operation == 1):\n",
    "            n0 = np.array(eval(input(\"Enter a first matrix plz: \")))\n",
    "            n1 = np.array(eval(input(\"Enter a second matrix plz: \")))\n",
    "            result = n0 + n1\n",
    "            print(result)\n",
    "            break\n",
    "        elif(operation == 2):\n",
    "            n0 = np.array(eval(input(\"Enter a first matrix plz: \")))\n",
    "            n1 = np.array(eval(input(\"Enter a second matrix plz: \")))\n",
    "            result = n0 - n1\n",
    "            print(result)\n",
    "            break\n",
    "        elif(operation == 3):\n",
    "            n0 = np.array(eval(input(\"Enter a first matrix plz: \")))\n",
    "            n1 = np.array(eval(input(\"Enter a second matrix plz: \")))\n",
    "            result = n0 * n1\n",
    "            print(result)\n",
    "            break\n",
    "        elif(operation == 4):\n",
    "            n0 = np.array(eval(input(\"Enter a first matrix plz: \")))\n",
    "            n1 = np.array(eval(input(\"Enter a second matrix plz: \")))\n",
    "            result = n0 / n1\n",
    "            print(result)\n",
    "            break\n",
    "        else:\n",
    "            print(\"Invalid operation try again\")   \n",
    "            \n",
    "            \n",
    "\n",
    "calcuator()"
   ]
  },
  {
   "cell_type": "markdown",
   "metadata": {},
   "source": [
    "# Operations for Victor and Matrix"
   ]
  },
  {
   "cell_type": "code",
   "execution_count": 2,
   "metadata": {},
   "outputs": [],
   "source": [
    "import numpy as np"
   ]
  },
  {
   "cell_type": "code",
   "execution_count": 3,
   "metadata": {},
   "outputs": [
    {
     "name": "stdout",
     "output_type": "stream",
     "text": [
      "[50 70 90]\n",
      "[-30 -30 -30]\n",
      "[ 400 1000 1800]\n",
      "[0.25 0.4  0.5 ]\n"
     ]
    }
   ],
   "source": [
    "# Victor\n",
    "\n",
    "v1 = np.array([10, 20, 30])\n",
    "v2 = np.array([40, 50, 60])\n",
    "\n",
    "vt1 = v1 + v2\n",
    "print(vt1)\n",
    "\n",
    "vt2 = v1 - v2\n",
    "print(vt2)\n",
    "\n",
    "vt3 = v1 * v2\n",
    "print(vt3)\n",
    "\n",
    "vt4 = v1 / v2\n",
    "print(vt4)\n"
   ]
  },
  {
   "cell_type": "code",
   "execution_count": 6,
   "metadata": {},
   "outputs": [
    {
     "name": "stdout",
     "output_type": "stream",
     "text": [
      "[[ 20  40  60]\n",
      " [ 80 100 120]\n",
      " [140 160 180]]\n",
      "----------\n",
      "[[0 0 0]\n",
      " [0 0 0]\n",
      " [0 0 0]]\n",
      "----------\n",
      "[[ 100  400  900]\n",
      " [1600 2500 3600]\n",
      " [4900 6400 8100]]\n",
      "----------\n",
      "[[1. 1. 1.]\n",
      " [1. 1. 1.]\n",
      " [1. 1. 1.]]\n"
     ]
    }
   ],
   "source": [
    "#Matrix\n",
    "\n",
    "m1 = np.array([[10, 20, 30],\n",
    "              [40, 50, 60],\n",
    "              [70, 80, 90]])\n",
    "\n",
    "m2 = np.array([[10, 20, 30],\n",
    "              [40, 50, 60],\n",
    "              [70, 80, 90]])\n",
    "\n",
    "mt1 = m1 + m2\n",
    "print(mt1)\n",
    "\n",
    "print(\"----------\")\n",
    "\n",
    "mt2 = m1 - m2\n",
    "print(mt2)\n",
    "\n",
    "print(\"----------\")\n",
    "\n",
    "mt3 = m1 * m2\n",
    "print(mt3)\n",
    "\n",
    "print(\"----------\")\n",
    "\n",
    "mt4 = m1 / m2\n",
    "print(mt4)"
   ]
  },
  {
   "cell_type": "code",
   "execution_count": 5,
   "metadata": {},
   "outputs": [
    {
     "data": {
      "text/plain": [
       "EigResult(eigenvalues=array([ 1.61168440e+02, -1.11684397e+01,  2.06802688e-15]), eigenvectors=array([[-0.23197069, -0.78583024,  0.40824829],\n",
       "       [-0.52532209, -0.08675134, -0.81649658],\n",
       "       [-0.8186735 ,  0.61232756,  0.40824829]]))"
      ]
     },
     "execution_count": 5,
     "metadata": {},
     "output_type": "execute_result"
    }
   ],
   "source": [
    "me = np.linalg.eig(m1)\n",
    "\n",
    "me"
   ]
  }
 ],
 "metadata": {
  "kernelspec": {
   "display_name": "Python 3",
   "language": "python",
   "name": "python3"
  },
  "language_info": {
   "codemirror_mode": {
    "name": "ipython",
    "version": 3
   },
   "file_extension": ".py",
   "mimetype": "text/x-python",
   "name": "python",
   "nbconvert_exporter": "python",
   "pygments_lexer": "ipython3",
   "version": "3.12.8"
  }
 },
 "nbformat": 4,
 "nbformat_minor": 2
}
